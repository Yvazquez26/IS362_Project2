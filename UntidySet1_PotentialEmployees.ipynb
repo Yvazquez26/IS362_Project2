{
 "cells": [
  {
   "cell_type": "markdown",
   "metadata": {},
   "source": [
    "### Import pandas"
   ]
  },
  {
   "cell_type": "code",
   "execution_count": 50,
   "metadata": {},
   "outputs": [],
   "source": [
    "import pandas as pd\n",
    "import numpy as np\n",
    "import datetime\n",
    "from os import listdir\n",
    "from os.path import isfile, join\n",
    "import glob\n",
    "import re"
   ]
  },
  {
   "cell_type": "markdown",
   "metadata": {},
   "source": [
    "### Read the .csv file and display data"
   ]
  },
  {
   "cell_type": "code",
   "execution_count": 51,
   "metadata": {},
   "outputs": [
    {
     "data": {
      "text/html": [
       "<div>\n",
       "<style scoped>\n",
       "    .dataframe tbody tr th:only-of-type {\n",
       "        vertical-align: middle;\n",
       "    }\n",
       "\n",
       "    .dataframe tbody tr th {\n",
       "        vertical-align: top;\n",
       "    }\n",
       "\n",
       "    .dataframe thead th {\n",
       "        text-align: right;\n",
       "    }\n",
       "</style>\n",
       "<table border=\"1\" class=\"dataframe\">\n",
       "  <thead>\n",
       "    <tr style=\"text-align: right;\">\n",
       "      <th></th>\n",
       "      <th>Name</th>\n",
       "      <th>phonenumber</th>\n",
       "      <th>date of birth</th>\n",
       "      <th>location</th>\n",
       "      <th>Job</th>\n",
       "      <th>Degree</th>\n",
       "    </tr>\n",
       "  </thead>\n",
       "  <tbody>\n",
       "    <tr>\n",
       "      <th>0</th>\n",
       "      <td>Stacy Adams</td>\n",
       "      <td>555-2219</td>\n",
       "      <td>7/23/98</td>\n",
       "      <td>florida</td>\n",
       "      <td>NaN</td>\n",
       "      <td>no</td>\n",
       "    </tr>\n",
       "    <tr>\n",
       "      <th>1</th>\n",
       "      <td>Walker, Alice</td>\n",
       "      <td>2129821112</td>\n",
       "      <td>1175</td>\n",
       "      <td>TX</td>\n",
       "      <td>lawyer</td>\n",
       "      <td>Y</td>\n",
       "    </tr>\n",
       "    <tr>\n",
       "      <th>2</th>\n",
       "      <td>Brandon</td>\n",
       "      <td>646-555-1236</td>\n",
       "      <td>12/18/93</td>\n",
       "      <td>Dallas,TX</td>\n",
       "      <td>Banker</td>\n",
       "      <td>yes</td>\n",
       "    </tr>\n",
       "    <tr>\n",
       "      <th>3</th>\n",
       "      <td>Robert Jones</td>\n",
       "      <td>212-999-6597</td>\n",
       "      <td>8/26/56</td>\n",
       "      <td>NC</td>\n",
       "      <td>retired</td>\n",
       "      <td>N</td>\n",
       "    </tr>\n",
       "  </tbody>\n",
       "</table>\n",
       "</div>"
      ],
      "text/plain": [
       "            Name   phonenumber date of birth   location      Job Degree\n",
       "0    Stacy Adams      555-2219       7/23/98    florida      NaN     no\n",
       "1  Walker, Alice    2129821112          1175         TX   lawyer      Y\n",
       "2        Brandon  646-555-1236      12/18/93  Dallas,TX   Banker    yes\n",
       "3   Robert Jones  212-999-6597       8/26/56         NC  retired      N"
      ]
     },
     "execution_count": 51,
     "metadata": {},
     "output_type": "execute_result"
    }
   ],
   "source": [
    "df= pd.read_csv('/Users/jonathan/Documents/UntidySet1.csv')\n",
    "df.head()"
   ]
  },
  {
   "cell_type": "markdown",
   "metadata": {},
   "source": [
    "### Rename columns"
   ]
  },
  {
   "cell_type": "code",
   "execution_count": 52,
   "metadata": {},
   "outputs": [
    {
     "data": {
      "text/html": [
       "<div>\n",
       "<style scoped>\n",
       "    .dataframe tbody tr th:only-of-type {\n",
       "        vertical-align: middle;\n",
       "    }\n",
       "\n",
       "    .dataframe tbody tr th {\n",
       "        vertical-align: top;\n",
       "    }\n",
       "\n",
       "    .dataframe thead th {\n",
       "        text-align: right;\n",
       "    }\n",
       "</style>\n",
       "<table border=\"1\" class=\"dataframe\">\n",
       "  <thead>\n",
       "    <tr style=\"text-align: right;\">\n",
       "      <th></th>\n",
       "      <th>Name</th>\n",
       "      <th>Phone number</th>\n",
       "      <th>Date of Birth</th>\n",
       "      <th>Location</th>\n",
       "      <th>Job</th>\n",
       "      <th>Degree</th>\n",
       "    </tr>\n",
       "  </thead>\n",
       "  <tbody>\n",
       "    <tr>\n",
       "      <th>0</th>\n",
       "      <td>Stacy Adams</td>\n",
       "      <td>555-2219</td>\n",
       "      <td>7/23/98</td>\n",
       "      <td>florida</td>\n",
       "      <td>NaN</td>\n",
       "      <td>no</td>\n",
       "    </tr>\n",
       "    <tr>\n",
       "      <th>1</th>\n",
       "      <td>Walker, Alice</td>\n",
       "      <td>2129821112</td>\n",
       "      <td>1175</td>\n",
       "      <td>TX</td>\n",
       "      <td>lawyer</td>\n",
       "      <td>Y</td>\n",
       "    </tr>\n",
       "    <tr>\n",
       "      <th>2</th>\n",
       "      <td>Brandon</td>\n",
       "      <td>646-555-1236</td>\n",
       "      <td>12/18/93</td>\n",
       "      <td>Dallas,TX</td>\n",
       "      <td>Banker</td>\n",
       "      <td>yes</td>\n",
       "    </tr>\n",
       "    <tr>\n",
       "      <th>3</th>\n",
       "      <td>Robert Jones</td>\n",
       "      <td>212-999-6597</td>\n",
       "      <td>8/26/56</td>\n",
       "      <td>NC</td>\n",
       "      <td>retired</td>\n",
       "      <td>N</td>\n",
       "    </tr>\n",
       "  </tbody>\n",
       "</table>\n",
       "</div>"
      ],
      "text/plain": [
       "            Name  Phone number Date of Birth   Location      Job Degree\n",
       "0    Stacy Adams      555-2219       7/23/98    florida      NaN     no\n",
       "1  Walker, Alice    2129821112          1175         TX   lawyer      Y\n",
       "2        Brandon  646-555-1236      12/18/93  Dallas,TX   Banker    yes\n",
       "3   Robert Jones  212-999-6597       8/26/56         NC  retired      N"
      ]
     },
     "execution_count": 52,
     "metadata": {},
     "output_type": "execute_result"
    }
   ],
   "source": [
    "df = df.rename(columns={'phonenumber': 'Phone number'})\n",
    "df = df.rename(columns={'date of birth': 'Date of Birth'})\n",
    "df = df.rename(columns={'location': 'Location'})\n",
    "df.head()"
   ]
  },
  {
   "cell_type": "code",
   "execution_count": 53,
   "metadata": {},
   "outputs": [
    {
     "data": {
      "text/html": [
       "<div>\n",
       "<style scoped>\n",
       "    .dataframe tbody tr th:only-of-type {\n",
       "        vertical-align: middle;\n",
       "    }\n",
       "\n",
       "    .dataframe tbody tr th {\n",
       "        vertical-align: top;\n",
       "    }\n",
       "\n",
       "    .dataframe thead th {\n",
       "        text-align: right;\n",
       "    }\n",
       "</style>\n",
       "<table border=\"1\" class=\"dataframe\">\n",
       "  <thead>\n",
       "    <tr style=\"text-align: right;\">\n",
       "      <th></th>\n",
       "      <th>Name</th>\n",
       "      <th>Phone Number</th>\n",
       "      <th>Date of Birth</th>\n",
       "      <th>Location</th>\n",
       "      <th>Job</th>\n",
       "      <th>Degree</th>\n",
       "    </tr>\n",
       "  </thead>\n",
       "  <tbody>\n",
       "    <tr>\n",
       "      <th>0</th>\n",
       "      <td>Stacy Adams</td>\n",
       "      <td>(000) 555-2219</td>\n",
       "      <td>07/23/1998</td>\n",
       "      <td>Florida</td>\n",
       "      <td>N/A</td>\n",
       "      <td>No</td>\n",
       "    </tr>\n",
       "    <tr>\n",
       "      <th>1</th>\n",
       "      <td>Alice Walker</td>\n",
       "      <td>(212) 982-1112</td>\n",
       "      <td>01/01/1975</td>\n",
       "      <td>Texas</td>\n",
       "      <td>Lawyer</td>\n",
       "      <td>Yes</td>\n",
       "    </tr>\n",
       "    <tr>\n",
       "      <th>2</th>\n",
       "      <td>Brandon</td>\n",
       "      <td>(646) 555-1236</td>\n",
       "      <td>12/18/1993</td>\n",
       "      <td>Texas</td>\n",
       "      <td>Banker</td>\n",
       "      <td>Yes</td>\n",
       "    </tr>\n",
       "    <tr>\n",
       "      <th>3</th>\n",
       "      <td>Robert Jones</td>\n",
       "      <td>(212) 999-6597</td>\n",
       "      <td>08/26/1956</td>\n",
       "      <td>North Carolina</td>\n",
       "      <td>Retired</td>\n",
       "      <td>No</td>\n",
       "    </tr>\n",
       "  </tbody>\n",
       "</table>\n",
       "</div>"
      ],
      "text/plain": [
       "           Name    Phone Number Date of Birth        Location      Job Degree\n",
       "0   Stacy Adams  (000) 555-2219    07/23/1998         Florida      N/A     No\n",
       "1  Alice Walker  (212) 982-1112    01/01/1975           Texas   Lawyer    Yes\n",
       "2       Brandon  (646) 555-1236    12/18/1993           Texas   Banker    Yes\n",
       "3  Robert Jones  (212) 999-6597    08/26/1956  North Carolina  Retired     No"
      ]
     },
     "execution_count": 53,
     "metadata": {},
     "output_type": "execute_result"
    }
   ],
   "source": [
    "new_df = pd.DataFrame(\n",
    "    {\n",
    "        \"Name\": ['Stacy Adams', 'Alice Walker', 'Brandon', 'Robert Jones'],\n",
    "        \"Phone Number\": ['(000) 555-2219', '(212) 982-1112', '(646) 555-1236', '(212) 999-6597'],\n",
    "        \"Date of Birth\": ['07/23/1998','01/01/1975', '12/18/1993' , '08/26/1956'],\n",
    "        \"Location\": ['Florida', 'Texas', 'Texas', 'North Carolina'],\n",
    "        \"Job\": ['N/A', 'Lawyer', 'Banker', 'Retired'],\n",
    "        \"Degree\": ['No','Yes', 'Yes', 'No']\n",
    "                         \n",
    "}\n",
    ")\n",
    "new_df"
   ]
  },
  {
   "cell_type": "markdown",
   "metadata": {},
   "source": [
    "### Create a new dataframe that is more organized. This data set was small, so it was easy to create a new data set manually"
   ]
  },
  {
   "cell_type": "code",
   "execution_count": 54,
   "metadata": {},
   "outputs": [
    {
     "data": {
      "text/html": [
       "<div>\n",
       "<style scoped>\n",
       "    .dataframe tbody tr th:only-of-type {\n",
       "        vertical-align: middle;\n",
       "    }\n",
       "\n",
       "    .dataframe tbody tr th {\n",
       "        vertical-align: top;\n",
       "    }\n",
       "\n",
       "    .dataframe thead th {\n",
       "        text-align: right;\n",
       "    }\n",
       "</style>\n",
       "<table border=\"1\" class=\"dataframe\">\n",
       "  <thead>\n",
       "    <tr style=\"text-align: right;\">\n",
       "      <th></th>\n",
       "      <th>Name</th>\n",
       "      <th>Date of Birth</th>\n",
       "      <th>Degree</th>\n",
       "      <th>Job</th>\n",
       "      <th>Location</th>\n",
       "      <th>Phone Number</th>\n",
       "    </tr>\n",
       "  </thead>\n",
       "  <tbody>\n",
       "    <tr>\n",
       "      <th>0</th>\n",
       "      <td>Stacy Adams</td>\n",
       "      <td>07/23/1998</td>\n",
       "      <td>No</td>\n",
       "      <td>N/A</td>\n",
       "      <td>Florida</td>\n",
       "      <td>(000) 555-2219</td>\n",
       "    </tr>\n",
       "    <tr>\n",
       "      <th>1</th>\n",
       "      <td>Alice Walker</td>\n",
       "      <td>01/01/1975</td>\n",
       "      <td>Yes</td>\n",
       "      <td>Lawyer</td>\n",
       "      <td>Texas</td>\n",
       "      <td>(212) 982-1112</td>\n",
       "    </tr>\n",
       "    <tr>\n",
       "      <th>2</th>\n",
       "      <td>Brandon</td>\n",
       "      <td>12/18/1993</td>\n",
       "      <td>Yes</td>\n",
       "      <td>Banker</td>\n",
       "      <td>Texas</td>\n",
       "      <td>(646) 555-1236</td>\n",
       "    </tr>\n",
       "    <tr>\n",
       "      <th>3</th>\n",
       "      <td>Robert Jones</td>\n",
       "      <td>08/26/1956</td>\n",
       "      <td>No</td>\n",
       "      <td>Retired</td>\n",
       "      <td>North Carolina</td>\n",
       "      <td>(212) 999-6597</td>\n",
       "    </tr>\n",
       "  </tbody>\n",
       "</table>\n",
       "</div>"
      ],
      "text/plain": [
       "           Name Date of Birth Degree      Job        Location    Phone Number\n",
       "0   Stacy Adams    07/23/1998     No      N/A         Florida  (000) 555-2219\n",
       "1  Alice Walker    01/01/1975    Yes   Lawyer           Texas  (212) 982-1112\n",
       "2       Brandon    12/18/1993    Yes   Banker           Texas  (646) 555-1236\n",
       "3  Robert Jones    08/26/1956     No  Retired  North Carolina  (212) 999-6597"
      ]
     },
     "execution_count": 54,
     "metadata": {},
     "output_type": "execute_result"
    }
   ],
   "source": [
    "new_df = new_df[['Name', 'Date of Birth', 'Degree','Job', 'Location', 'Phone Number']]\n",
    "new_df.head()"
   ]
  },
  {
   "cell_type": "markdown",
   "metadata": {},
   "source": [
    "The original untidy data set provided by Chena Priant is now in a tidy data set. The columns have been rearranged in the priority I thought were important. The name is in the format of first name, last name. The date of birth is in the format of MM/DD/YYYY. Whether the person has a degree is either \"No\" or \"Yes\", the job description, location and phone number are neater."
   ]
  },
  {
   "cell_type": "code",
   "execution_count": null,
   "metadata": {},
   "outputs": [],
   "source": []
  }
 ],
 "metadata": {
  "kernelspec": {
   "display_name": "Python 3",
   "language": "python",
   "name": "python3"
  },
  "language_info": {
   "codemirror_mode": {
    "name": "ipython",
    "version": 3
   },
   "file_extension": ".py",
   "mimetype": "text/x-python",
   "name": "python",
   "nbconvert_exporter": "python",
   "pygments_lexer": "ipython3",
   "version": "3.7.6"
  }
 },
 "nbformat": 4,
 "nbformat_minor": 4
}
